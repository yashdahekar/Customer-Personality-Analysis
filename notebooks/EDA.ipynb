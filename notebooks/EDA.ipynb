{
 "cells": [
  {
   "cell_type": "markdown",
   "metadata": {},
   "source": [
    "<div style=\"border-radius: 10px;\n",
    "            border: #0b0265 solid;\n",
    "            background: linear-gradient(to right, #ffe600, #ffec80);\n",
    "            background-color: #59e0e0; \n",
    "            color: rgb(226, 219, 219);\n",
    "            font-size: 110%;\n",
    "            letter-spacing: 0.5px;\n",
    "            text-align: center\">\n",
    "\n",
    "  <center>\n",
    "    <h1 style=\"padding: 15px 0px; color: #0b0265; font-weight: bold; font-family: Cursive\">\n",
    "      Customer Personality Analysis 🛍️🛒\n",
    "    </h1>\n",
    "  </center>\n",
    "</div>\n"
   ]
  },
  {
   "cell_type": "markdown",
   "metadata": {},
   "source": [
    "\n",
    "* Customer Personality Analysis is a detailed analysis of a company’s ideal customers. It helps a business to better understand its customers and makes it easier for them to modify products according to the specific needs, behaviors and concerns of different types of customers.\n",
    "* Customer personality analysis helps a business to modify its product based on its target customers from different types of customer segments. For example, instead of spending money to market a new product to every customer in the company’s database, a company can analyze which customer segment is most likely to buy the product and then market the product only on that particular segment."
   ]
  },
  {
   "cell_type": "markdown",
   "metadata": {},
   "source": [
    "## About the Dataset\n",
    "- The dataset for this project is a public dataset from Kaggle provided by Dr. Omar RomeroHernandez.\n",
    "- This dataset has **2,240** rows of observations and **28** columns of variables. Among the variables, there are 5-categorical variables and 23 numerical variables."
   ]
  },
  {
   "cell_type": "markdown",
   "metadata": {},
   "source": [
    "**People:**\n",
    "\n",
    "* `ID`: Customer's unique identifier\n",
    "* `Year_Birth`: Customer's birth year\n",
    "* `Education`: Customer's education level\n",
    "* `Marital_Status`: Customer's marital status\n",
    "* `Income`: Customer's yearly household income\n",
    "* `Kidhome`: Number of children in customer's household\n",
    "* `Teenhome`: Number of teenagers in customer's household\n",
    "* `Dt_Customer`: Date of customer's enrollment with the company\n",
    "* `Recency`: Number of days since customer's last purchase\n",
    "* `Complain`: 1 if the customer complained in the last 2 years, 0 otherwise\n",
    "\n",
    "**Products:**\n",
    "\n",
    "* `MntWines`: Amount spent on wine in last 2 years\n",
    "* `MntFruits`: Amount spent on fruits in last 2 years\n",
    "* `MntMeatProducts`: Amount spent on meat in last 2 years\n",
    "* `MntFishProducts`: Amount spent on fish in last 2 years\n",
    "* `MntSweetProducts`: Amount spent on sweets in last 2 years\n",
    "* `MntGoldProds`: Amount spent on gold in last 2 years\n",
    "\n",
    "**Promotion:**\n",
    "\n",
    "* `NumDealsPurchases`: Number of purchases made with a discount\n",
    "* `AcceptedCmp1`: 1 if customer accepted the offer in the 1st campaign, 0 otherwise\n",
    "* `AcceptedCmp2`: 1 if customer accepted the offer in the 2nd campaign, 0 otherwise\n",
    "* `AcceptedCmp3`: 1 if customer accepted the offer in the 3rd campaign, 0 otherwise\n",
    "* `AcceptedCmp4`: 1 if customer accepted the offer in the 4th campaign, 0 otherwise\n",
    "* `AcceptedCmp5`: 1 if customer accepted the offer in the 5th campaign, 0 otherwise\n",
    "* `Response`: 1 if customer accepted the offer in the last campaign, 0 otherwise\n",
    "\n",
    "**Place:**\n",
    "\n",
    "* `NumWebPurchases`: Number of purchases made through the company’s website\n",
    "* `NumCatalogPurchases`: Number of purchases made using a catalogue\n",
    "* `NumStorePurchases`: Number of purchases made directly in stores\n",
    "* `NumWebVisitsMonth`: Number of visits to company’s website in the last month"
   ]
  },
  {
   "cell_type": "code",
   "execution_count": null,
   "metadata": {},
   "outputs": [],
   "source": []
  },
  {
   "cell_type": "code",
   "execution_count": null,
   "metadata": {},
   "outputs": [],
   "source": []
  },
  {
   "cell_type": "code",
   "execution_count": null,
   "metadata": {},
   "outputs": [],
   "source": []
  },
  {
   "cell_type": "code",
   "execution_count": null,
   "metadata": {},
   "outputs": [],
   "source": []
  }
 ],
 "metadata": {
  "kernelspec": {
   "display_name": "Python 3",
   "language": "python",
   "name": "python3"
  },
  "language_info": {
   "name": "python",
   "version": "3.11.3"
  }
 },
 "nbformat": 4,
 "nbformat_minor": 2
}
